{
 "metadata": {
  "name": "",
  "signature": "sha256:62bc8dd525c9cc547b85193f96222681e293f903d2669a157136ad1a3feb7beb"
 },
 "nbformat": 3,
 "nbformat_minor": 0,
 "worksheets": [
  {
   "cells": [
    {
     "cell_type": "markdown",
     "metadata": {},
     "source": [
      "## Notation  \n",
      "\n",
      "$\\alpha, \\beta, \\chi, \\psi$<-- **scalars**  \n",
      "u,v <-- vectors  \n",
      "U,V <-- matrices  \n"
     ]
    },
    {
     "cell_type": "markdown",
     "metadata": {},
     "source": [
      "## Unit Vectors"
     ]
    },
    {
     "cell_type": "markdown",
     "metadata": {},
     "source": [
      "### $\\hat{i} \\space and \\space \\hat{j}$\n",
      "![ihat and jhat](i-hat-j-hat.png)\n",
      "notation in class  "
     ]
    },
    {
     "cell_type": "markdown",
     "metadata": {},
     "source": [
      "## Adding Vectors"
     ]
    },
    {
     "cell_type": "code",
     "collapsed": false,
     "input": [
      "def addVectors(vX, vY):\n",
      "    if len(vX) != len(vY):\n",
      "        return \"Vectors must be of same size\"\n",
      "    v = []\n",
      "    for i in range(len(vX)):\n",
      "        v.append(vX[i] + vY[i])\n",
      "    return v\n",
      "\n",
      "#test\n",
      "\n",
      "assert addVectors([1,2,3],[1,2,3]) == [2,4,6]\n",
      "assert addVectors([],[1,2,3]) == \"Vectors must be of same size\"\n",
      "assert addVectors([0],[1]) == [1]\n",
      "assert addVectors(\"fads\",\"asxw\")\n"
     ],
     "language": "python",
     "metadata": {},
     "outputs": [],
     "prompt_number": 2
    },
    {
     "cell_type": "code",
     "collapsed": false,
     "input": [
      "addVectors(\"fads\",\"asxw\")"
     ],
     "language": "python",
     "metadata": {},
     "outputs": [
      {
       "metadata": {},
       "output_type": "pyout",
       "prompt_number": 3,
       "text": [
        "['fa', 'as', 'dx', 'sw']"
       ]
      }
     ],
     "prompt_number": 3
    },
    {
     "cell_type": "markdown",
     "metadata": {},
     "source": [
      "# Scaling Vectors"
     ]
    },
    {
     "cell_type": "code",
     "collapsed": false,
     "input": [
      "def scaleVector(v,a):\n",
      "    y = []\n",
      "    for vi in v:\n",
      "        y.append(vi*a)\n",
      "    return y"
     ],
     "language": "python",
     "metadata": {},
     "outputs": [],
     "prompt_number": 4
    },
    {
     "cell_type": "code",
     "collapsed": false,
     "input": [
      "scaleVector([1,2,3],2)"
     ],
     "language": "python",
     "metadata": {},
     "outputs": [
      {
       "metadata": {},
       "output_type": "pyout",
       "prompt_number": 5,
       "text": [
        "[2, 4, 6]"
       ]
      }
     ],
     "prompt_number": 5
    },
    {
     "cell_type": "markdown",
     "metadata": {},
     "source": [
      "# Subtracting Vectors  \n",
      "\n",
      "![some caption](vectorSubtract.png)\n"
     ]
    },
    {
     "cell_type": "code",
     "collapsed": false,
     "input": [
      "# x + -y == x - y\n",
      "def subtractVectors(vX,vY):\n",
      "    if len(vX) != len(vY):\n",
      "        return \"Vectors must be of same size\"\n",
      "    v = []\n",
      "    for i in range(len(vX)):\n",
      "        v.append(vX[i] - vY[i])\n",
      "    return v\n",
      "\n",
      "assert subtractVectors([2,4],[1,3]) == [1,1]"
     ],
     "language": "python",
     "metadata": {},
     "outputs": [],
     "prompt_number": 6
    },
    {
     "cell_type": "markdown",
     "metadata": {},
     "source": [
      "## Scaled Vector Addition - axpy"
     ]
    },
    {
     "cell_type": "code",
     "collapsed": false,
     "input": [
      "# scale vector x by (a) alpha, then add to vector y\n",
      "def axpy(alpha,x,y):\n",
      "    z = []\n",
      "    for i in range(len(x)):\n",
      "        z.append(x[i]*alpha + y[i])\n",
      "    return z\n",
      "\n",
      "assert axpy(2,[1,2,3],[0,0,0]) == [2,4,6]\n",
      "assert axpy(2,[1,2,3],[2,2,2]) == [4,6,8]"
     ],
     "language": "python",
     "metadata": {},
     "outputs": [],
     "prompt_number": 9
    },
    {
     "cell_type": "markdown",
     "metadata": {},
     "source": [
      "**taxicab norm**: number of blocks a taxi would have to drive to get from a to b\n"
     ]
    },
    {
     "cell_type": "markdown",
     "metadata": {},
     "source": [
      "## Linear Combinations  \n",
      "\n",
      "$\\alpha u + \\beta v = \\alpha * u + \\beta * v$  \n",
      "![Linear Transformation Formula](linear-transform-sum.png)\n",
      "i.e. scale each vector by respective coefficients and add together"
     ]
    },
    {
     "cell_type": "markdown",
     "metadata": {},
     "source": [
      "## Dot Product"
     ]
    },
    {
     "cell_type": "code",
     "collapsed": false,
     "input": [
      "# multiply each corresponding element of vectors by \n",
      "# each other and add to total computed sum\n",
      "def dotProduct(x,y):\n",
      "    alpha = 0\n",
      "    for i in range(len(x)):\n",
      "        alpha = x[i]*y[i] + alpha\n",
      "    return alpha\n",
      "\n",
      "assert dotProduct([1,2,3], [7,8,9])  == 50\n",
      "        "
     ],
     "language": "python",
     "metadata": {},
     "outputs": [],
     "prompt_number": 2
    },
    {
     "cell_type": "code",
     "collapsed": false,
     "input": [],
     "language": "python",
     "metadata": {},
     "outputs": []
    }
   ],
   "metadata": {}
  }
 ]
}